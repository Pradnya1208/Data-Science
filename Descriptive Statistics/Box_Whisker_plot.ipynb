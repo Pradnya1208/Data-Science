{
 "cells": [
  {
   "cell_type": "markdown",
   "metadata": {},
   "source": [
    "#### Problem statement: \n",
    "The owner of the restaurant wants to find out more about ehre his patrons are coming from. One day he decoded to gather about the distance (in miles) that people commuted to get to his restaurant. People reported the following distances traveled:\n",
    "14, 6, 3, 2, 4 , 15, 11, 8 ,1, 7, 2, 1, 3, 4, 10, 22, 20\n",
    "\n",
    "He wants to create graph that helps him understand the spread of distances (and the median distances ) that people travel. What kind of graph should he create?"
   ]
  },
  {
   "cell_type": "code",
   "execution_count": 1,
   "metadata": {},
   "outputs": [],
   "source": [
    "import pandas as pd\n",
    "import numpy as np\n",
    "import seaborn as sns"
   ]
  },
  {
   "cell_type": "code",
   "execution_count": 17,
   "metadata": {},
   "outputs": [],
   "source": [
    "dist= pd.Series([14, 6, 3, 2, 4 , 15, 11, 8 ,1, 7, 2, 1, 3, 4, 10, 22, 20])\n"
   ]
  },
  {
   "cell_type": "code",
   "execution_count": 74,
   "metadata": {},
   "outputs": [
    {
     "data": {
      "text/plain": [
       "6.0"
      ]
     },
     "execution_count": 74,
     "metadata": {},
     "output_type": "execute_result"
    }
   ],
   "source": [
    "dist.median()"
   ]
  },
  {
   "cell_type": "code",
   "execution_count": 58,
   "metadata": {},
   "outputs": [
    {
     "data": {
      "text/plain": [
       "[1, 1, 2, 2, 3, 3, 4, 4, 6, 7, 8, 10, 11, 14, 15, 20, 22]"
      ]
     },
     "execution_count": 58,
     "metadata": {},
     "output_type": "execute_result"
    }
   ],
   "source": [
    "dist.sort_values().to_list()"
   ]
  },
  {
   "cell_type": "code",
   "execution_count": 60,
   "metadata": {},
   "outputs": [
    {
     "data": {
      "text/plain": [
       "8"
      ]
     },
     "execution_count": 60,
     "metadata": {},
     "output_type": "execute_result"
    }
   ],
   "source": [
    "dist_s = dist.sort_values()\n",
    "for loc, s in enumerate(dist_s.values,0):\n",
    "    if s == dist.median():\n",
    "        loc_ = loc\n",
    "        \n",
    "loc_"
   ]
  },
  {
   "cell_type": "code",
   "execution_count": 66,
   "metadata": {},
   "outputs": [],
   "source": [
    "q1 = dist_s[0:loc_]\n",
    "q2 = dist_s[loc_ + 1 :]"
   ]
  },
  {
   "cell_type": "code",
   "execution_count": 28,
   "metadata": {},
   "outputs": [
    {
     "data": {
      "text/plain": [
       "count    17.000000\n",
       "mean      7.823529\n",
       "std       6.588202\n",
       "min       1.000000\n",
       "25%       3.000000\n",
       "50%       6.000000\n",
       "75%      11.000000\n",
       "max      22.000000\n",
       "dtype: float64"
      ]
     },
     "execution_count": 28,
     "metadata": {},
     "output_type": "execute_result"
    }
   ],
   "source": [
    "dist.describe()"
   ]
  },
  {
   "cell_type": "code",
   "execution_count": 69,
   "metadata": {},
   "outputs": [
    {
     "data": {
      "text/plain": [
       "12.5"
      ]
     },
     "execution_count": 69,
     "metadata": {},
     "output_type": "execute_result"
    }
   ],
   "source": [
    "q2.median()"
   ]
  },
  {
   "cell_type": "markdown",
   "metadata": {},
   "source": [
    "###### As the owner wants the Spread of informationan and median at the same time. Box and whisker plot would be more suitable in this case.<br>1. Whiskers of a plot essentialy shows us a range of data<br>2. It is easy to find out spread of a data with the help of Box Whisker plot Range.<br>3. Finding out Outliers is also straight forward with this plot<br>Following are the parameters of Box Whisker plot\n",
    "\n"
   ]
  },
  {
   "cell_type": "code",
   "execution_count": 73,
   "metadata": {},
   "outputs": [
    {
     "name": "stdout",
     "output_type": "stream",
     "text": [
      "Whisker(min) :  1  Whisker(max) :  22\n",
      "Point of separation between 1st quartile and 2nd quatile is :  2.5\n",
      "Point of separation between 2nd quartile and 3rd quatile is :  6.0\n",
      "Point of separation between 3rd quartile and 4th quatile is :  12.5\n",
      "Q1:  1 - 2.5\n",
      "Q2:  2.5 - 6.0\n",
      "Q3:  6.0 - 12.5\n",
      "Q4:  12.5 - 22\n"
     ]
    }
   ],
   "source": [
    "print(\"Whisker(min) : \", dist.min(), \" Whisker(max) : \", dist.max())\n",
    "print(\"Point of separation between 1st quartile and 2nd quatile is : \", q1.median())\n",
    "print(\"Point of separation between 2nd quartile and 3rd quatile is : \", dist.median())\n",
    "print(\"Point of separation between 3rd quartile and 4th quatile is : \", q2.median())\n",
    "print(\"Q1: \", dist.min(),\"-\",q1.median())\n",
    "print(\"Q2: \", q1.median(),\"-\",dist.median())\n",
    "print(\"Q3: \", dist.median(),\"-\",q2.median())\n",
    "print(\"Q4: \", q2.median(),\"-\",dist.max())\n"
   ]
  },
  {
   "cell_type": "code",
   "execution_count": 27,
   "metadata": {
    "scrolled": true
   },
   "outputs": [
    {
     "data": {
      "text/plain": [
       "<matplotlib.axes._subplots.AxesSubplot at 0x1dea9cb0970>"
      ]
     },
     "execution_count": 27,
     "metadata": {},
     "output_type": "execute_result"
    },
    {
     "data": {
      "image/png": "[encoded data removed]",
      "text/plain": [
       "<Figure size 432x288 with 1 Axes>"
      ]
     },
     "metadata": {
      "needs_background": "light"
     },
     "output_type": "display_data"
    }
   ],
   "source": [
    "sns.boxplot(data = dist)"
   ]
  }
 ],
 "metadata": {
  "kernelspec": {
   "display_name": "Python 3",
   "language": "python",
   "name": "python3"
  },
  "language_info": {
   "codemirror_mode": {
    "name": "ipython",
    "version": 3
   },
   "file_extension": ".py",
   "mimetype": "text/x-python",
   "name": "python",
   "nbconvert_exporter": "python",
   "pygments_lexer": "ipython3",
   "version": "3.8.3"
  }
 },
 "nbformat": 4,
 "nbformat_minor": 4
}
