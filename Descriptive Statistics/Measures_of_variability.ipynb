{
 "cells": [
  {
   "cell_type": "markdown",
   "metadata": {},
   "source": [
    "### Measures of Variability\n",
    "#### 1. Vaiance <br> 2. Standard Deviation <br>3. Coefficient of Variation\n"
   ]
  },
  {
   "cell_type": "markdown",
   "metadata": {},
   "source": [
    " <b>Problem statement</b> :<br>Calculate the variability in prices (in dollars and Pesos) of Pizzas in in top 10 restaurants of Newyork."
   ]
  },
  {
   "cell_type": "code",
   "execution_count": 29,
   "metadata": {},
   "outputs": [],
   "source": [
    "import pandas as pd\n",
    "import seaborn as sns\n",
    "import numpy as np\n"
   ]
  },
  {
   "cell_type": "code",
   "execution_count": 3,
   "metadata": {},
   "outputs": [],
   "source": [
    "Pizza = {'City': 'New York',\n",
    "         'Restaurant': ['R1','R2','R3','R4','R5','R6','R7','R8','R9', 'R10'],\n",
    "          'Prices in dollars': [1,2,3,5,6,7,8,9,10,11],\n",
    "         'Prices in pesos': [18.81, 37.62, 56.43, 94.05,112.86, 131.67, 150.48, 169.29, 206,91]}"
   ]
  },
  {
   "cell_type": "code",
   "execution_count": 5,
   "metadata": {},
   "outputs": [
    {
     "data": {
      "text/html": [
       "<div>\n",
       "<style scoped>\n",
       "    .dataframe tbody tr th:only-of-type {\n",
       "        vertical-align: middle;\n",
       "    }\n",
       "\n",
       "    .dataframe tbody tr th {\n",
       "        vertical-align: top;\n",
       "    }\n",
       "\n",
       "    .dataframe thead th {\n",
       "        text-align: right;\n",
       "    }\n",
       "</style>\n",
       "<table border=\"1\" class=\"dataframe\">\n",
       "  <thead>\n",
       "    <tr style=\"text-align: right;\">\n",
       "      <th></th>\n",
       "      <th>City</th>\n",
       "      <th>Restaurant</th>\n",
       "      <th>Prices in dollars</th>\n",
       "      <th>Prices in pesos</th>\n",
       "    </tr>\n",
       "  </thead>\n",
       "  <tbody>\n",
       "    <tr>\n",
       "      <th>0</th>\n",
       "      <td>New York</td>\n",
       "      <td>R1</td>\n",
       "      <td>1</td>\n",
       "      <td>18.81</td>\n",
       "    </tr>\n",
       "    <tr>\n",
       "      <th>1</th>\n",
       "      <td>New York</td>\n",
       "      <td>R2</td>\n",
       "      <td>2</td>\n",
       "      <td>37.62</td>\n",
       "    </tr>\n",
       "    <tr>\n",
       "      <th>2</th>\n",
       "      <td>New York</td>\n",
       "      <td>R3</td>\n",
       "      <td>3</td>\n",
       "      <td>56.43</td>\n",
       "    </tr>\n",
       "    <tr>\n",
       "      <th>3</th>\n",
       "      <td>New York</td>\n",
       "      <td>R4</td>\n",
       "      <td>5</td>\n",
       "      <td>94.05</td>\n",
       "    </tr>\n",
       "    <tr>\n",
       "      <th>4</th>\n",
       "      <td>New York</td>\n",
       "      <td>R5</td>\n",
       "      <td>6</td>\n",
       "      <td>112.86</td>\n",
       "    </tr>\n",
       "    <tr>\n",
       "      <th>5</th>\n",
       "      <td>New York</td>\n",
       "      <td>R6</td>\n",
       "      <td>7</td>\n",
       "      <td>131.67</td>\n",
       "    </tr>\n",
       "    <tr>\n",
       "      <th>6</th>\n",
       "      <td>New York</td>\n",
       "      <td>R7</td>\n",
       "      <td>8</td>\n",
       "      <td>150.48</td>\n",
       "    </tr>\n",
       "    <tr>\n",
       "      <th>7</th>\n",
       "      <td>New York</td>\n",
       "      <td>R8</td>\n",
       "      <td>9</td>\n",
       "      <td>169.29</td>\n",
       "    </tr>\n",
       "    <tr>\n",
       "      <th>8</th>\n",
       "      <td>New York</td>\n",
       "      <td>R9</td>\n",
       "      <td>10</td>\n",
       "      <td>206.00</td>\n",
       "    </tr>\n",
       "    <tr>\n",
       "      <th>9</th>\n",
       "      <td>New York</td>\n",
       "      <td>R10</td>\n",
       "      <td>11</td>\n",
       "      <td>91.00</td>\n",
       "    </tr>\n",
       "  </tbody>\n",
       "</table>\n",
       "</div>"
      ],
      "text/plain": [
       "       City Restaurant  Prices in dollars  Prices in pesos\n",
       "0  New York         R1                  1            18.81\n",
       "1  New York         R2                  2            37.62\n",
       "2  New York         R3                  3            56.43\n",
       "3  New York         R4                  5            94.05\n",
       "4  New York         R5                  6           112.86\n",
       "5  New York         R6                  7           131.67\n",
       "6  New York         R7                  8           150.48\n",
       "7  New York         R8                  9           169.29\n",
       "8  New York         R9                 10           206.00\n",
       "9  New York        R10                 11            91.00"
      ]
     },
     "execution_count": 5,
     "metadata": {},
     "output_type": "execute_result"
    }
   ],
   "source": [
    "df_pizza = pd.DataFrame(Pizza, columns = ['City', 'Restaurant', 'Prices in dollars', 'Prices in pesos'])\n",
    "df_pizza"
   ]
  },
  {
   "cell_type": "code",
   "execution_count": 15,
   "metadata": {},
   "outputs": [
    {
     "data": {
      "text/plain": [
       "Index(['City', 'Restaurant', 'Prices in dollars', 'Prices in pesos'], dtype='object')"
      ]
     },
     "execution_count": 15,
     "metadata": {},
     "output_type": "execute_result"
    }
   ],
   "source": [
    "df_pizza.columns\n"
   ]
  },
  {
   "cell_type": "code",
   "execution_count": 16,
   "metadata": {},
   "outputs": [
    {
     "data": {
      "text/plain": [
       "<matplotlib.axes._subplots.AxesSubplot at 0x1b7033a98b0>"
      ]
     },
     "execution_count": 16,
     "metadata": {},
     "output_type": "execute_result"
    },
    {
     "data": {
      "image/png": "[encoded data removed]",
      "text/plain": [
       "<Figure size 432x288 with 1 Axes>"
      ]
     },
     "metadata": {
      "needs_background": "light"
     },
     "output_type": "display_data"
    }
   ],
   "source": [
    "sns.barplot(x = 'Restaurant', y = 'Prices in dollars', data = df_pizza)"
   ]
  },
  {
   "cell_type": "code",
   "execution_count": 17,
   "metadata": {},
   "outputs": [
    {
     "data": {
      "text/plain": [
       "<matplotlib.axes._subplots.AxesSubplot at 0x1b703592f10>"
      ]
     },
     "execution_count": 17,
     "metadata": {},
     "output_type": "execute_result"
    },
    {
     "data": {
      "image/png": "[encoded data removed]",
      "text/plain": [
       "<Figure size 432x288 with 1 Axes>"
      ]
     },
     "metadata": {
      "needs_background": "light"
     },
     "output_type": "display_data"
    }
   ],
   "source": [
    "sns.barplot(x = 'Restaurant', y = 'Prices in pesos', data = df_pizza)"
   ]
  },
  {
   "cell_type": "code",
   "execution_count": 22,
   "metadata": {},
   "outputs": [
    {
     "data": {
      "text/plain": [
       "<matplotlib.axes._subplots.AxesSubplot at 0x1b7036e3b20>"
      ]
     },
     "execution_count": 22,
     "metadata": {},
     "output_type": "execute_result"
    },
    {
     "data": {
      "image/png": "[encoded data removed]",
      "text/plain": [
       "<Figure size 432x288 with 1 Axes>"
      ]
     },
     "metadata": {
      "needs_background": "light"
     },
     "output_type": "display_data"
    }
   ],
   "source": [
    "sns.stripplot(data = df_pizza)"
   ]
  },
  {
   "cell_type": "markdown",
   "metadata": {},
   "source": [
    "## Descriptive analysis of Dataset"
   ]
  },
  {
   "cell_type": "code",
   "execution_count": 26,
   "metadata": {},
   "outputs": [
    {
     "name": "stdout",
     "output_type": "stream",
     "text": [
      "mean value of Pizza prices in dollars: 6.2  \n",
      "mean value of pizza prices in pesos : 106.821\n"
     ]
    }
   ],
   "source": [
    "# Calculate mean\n",
    "print(\"mean value of Pizza prices in dollars:\",df_pizza['Prices in dollars'].mean(), \" \\nmean value of pizza prices in pesos :\",\n",
    "      df_pizza['Prices in pesos'].mean())\n"
   ]
  },
  {
   "cell_type": "code",
   "execution_count": 27,
   "metadata": {},
   "outputs": [
    {
     "name": "stdout",
     "output_type": "stream",
     "text": [
      "Variance of Pizza prices in dollars: 11.733333333333333  \n",
      "Variance of pizza prices in pesos : 3531.8078322222223\n"
     ]
    }
   ],
   "source": [
    "# Calculate variance\n",
    "print(\"Variance of Pizza prices in dollars:\",df_pizza['Prices in dollars'].var(), \" \\nVariance of pizza prices in pesos :\",\n",
    "      df_pizza['Prices in pesos'].var())"
   ]
  },
  {
   "cell_type": "markdown",
   "metadata": {},
   "source": [
    "#### As we see in above code the variance values are irrelevant to us, there are large and hard to compare.<br>As the units of measurements are squared there are not meaningful for observer.\n",
    "Hence, we calculate Standard deviation. As it gives us <b>directly interpretable</b> values\n",
    "\n"
   ]
  },
  {
   "cell_type": "code",
   "execution_count": 31,
   "metadata": {},
   "outputs": [
    {
     "name": "stdout",
     "output_type": "stream",
     "text": [
      "Standard deviation for Pizza prices in dollars: 3.249615361854384  \n",
      "Standard deviation for pizza prices in pesos : 56.379314016756176\n"
     ]
    }
   ],
   "source": [
    "# Calculate standard deviation\n",
    "print(\"Standard deviation for Pizza prices in dollars:\",np.std(df_pizza['Prices in dollars']), \" \\nStandard deviation for pizza prices in pesos :\",\n",
    "      np.std(df_pizza['Prices in pesos']))"
   ]
  },
  {
   "cell_type": "markdown",
   "metadata": {},
   "source": [
    "##### As we see the above values of Standard deviation are directly interpretable as they show us they are in there original units of measurement.<br>But, here in our dataset we are getting 2 different standard deviation values (3.24 and 56.37) for same 10 pizzas from the same Restaurants only the Currencies are different.<br>Hence, having 2 diffrent values of standard deviation is meaning less.<br>Therefore, we calculate Coefficient of variation for both the datasets, which would give us more reliable comparison."
   ]
  },
  {
   "cell_type": "code",
   "execution_count": 33,
   "metadata": {},
   "outputs": [],
   "source": [
    "from scipy.stats import variation"
   ]
  },
  {
   "cell_type": "code",
   "execution_count": 36,
   "metadata": {},
   "outputs": [
    {
     "name": "stdout",
     "output_type": "stream",
     "text": [
      "Coefficient of Variation for Pizza prices in dollars: 0.5241315099765136  \n",
      "Coefficient of Variation for pizza prices in pesos : 0.5277924192504861\n"
     ]
    }
   ],
   "source": [
    "# Calculate coefficient of variation (CV)\n",
    "print(\"Coefficient of Variation for Pizza prices in dollars:\",variation(df_pizza['Prices in dollars']), \" \\nCoefficient of Variation for pizza prices in pesos :\",\n",
    "      variation(df_pizza['Prices in pesos']))"
   ]
  },
  {
   "cell_type": "markdown",
   "metadata": {},
   "source": [
    "CV for Pizza (dollars) : <b> 0.5241315099765136 </b> is approximately equal to the CV for Pizza (pesos): <b>0.527792419250486</b>\n",
    "\n",
    "## Hence, by calculating the coefficient of variation we can confidently say that 2 datasets have same variablity"
   ]
  }
 ],
 "metadata": {
  "kernelspec": {
   "display_name": "Python 3",
   "language": "python",
   "name": "python3"
  },
  "language_info": {
   "codemirror_mode": {
    "name": "ipython",
    "version": 3
   },
   "file_extension": ".py",
   "mimetype": "text/x-python",
   "name": "python",
   "nbconvert_exporter": "python",
   "pygments_lexer": "ipython3",
   "version": "3.8.3"
  }
 },
 "nbformat": 4,
 "nbformat_minor": 4
}
