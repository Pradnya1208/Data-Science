{
 "cells": [
  {
   "cell_type": "markdown",
   "metadata": {},
   "source": [
    "# Hypothesis Testing (T - Test)"
   ]
  },
  {
   "cell_type": "markdown",
   "metadata": {},
   "source": [
    "## Example : <br>Process Control at the call center\n",
    "### Performance of a call center is montored by the average call duration.<br> Data from the 18 months shows that on the day when process runs normally, <br> 𝜇 = <i>4 minutes</i>, σ = <i>3 minutes</i> <br>Cannot monitor each and every call due to limited resources so radomly sapled 50 call per day.<br> Hence, n = <i>50 calls per day</i>.<br><br>We already know sample mean everyday will be different - <i>Inherent invariability</i>.<br>But, when should you be alarmed and conclude that system is not behaving normally - <i>External invariability</i>.<br><br>Pragmatic ApprochL system behaves normally when 𝜇 = <i>4 minutes</i><br>So, we should look for deviation on either side of 𝜇.<br>\n",
    "| Day | Mean Call Duration |\n",
    "| :- | :-: |\n",
    "| 1 | 3.7 |\n",
    "| 2 | 4.1 |\n",
    "| 3 | 3.5 |\n",
    "| 4 | 4.2 |\n",
    "| 5 | 3.9 |\n",
    "| 6 | 4.1 |\n",
    "| 7 | 4.2 |\n",
    "| 8 | 3.8 |\n",
    "| 9 | 3.7 |\n",
    "| 10 | 4.6 |\n",
    "| 11 | 3.7 |\n",
    "| 12 | 4.6 |\n",
    "| 13 | 4.0 |\n",
    "| 14 | 4.2 |\n",
    "| 15 | 3.8 |\n",
    "| 16 | 4.4 |\n",
    "| 17 | 5.3 |\n",
    "| 18 | 6.1 |\n",
    "| 19 | 7.2 |\n",
    "| 20 | 6.5 |\n"
   ]
  },
  {
   "cell_type": "code",
   "execution_count": 106,
   "metadata": {},
   "outputs": [],
   "source": [
    "from scipy import stats\n",
    "import pandas as pd\n",
    "import numpy as np\n",
    "import seaborn as sns"
   ]
  },
  {
   "cell_type": "markdown",
   "metadata": {},
   "source": [
    "Formula : 2 * stats.t.cdf(t-test(x-u/s/sqrt(n)) , n-1) # n = sample size DF = n-1"
   ]
  },
  {
   "cell_type": "code",
   "execution_count": 121,
   "metadata": {},
   "outputs": [],
   "source": [
    "data = pd.Series([3.7, 4.1, 3.5, 4.2, 3.9, 4.1, 4.2, 3.8, 3.7, 4.6, 3.7, 4.6, 4.0, 4.2, 3.8, 4.4, 5.3, 6.1, 7.2, 6.5])\n",
    "mean = 4\n",
    "n = 50\n",
    "std = 3\n"
   ]
  },
  {
   "cell_type": "markdown",
   "metadata": {},
   "source": [
    "### T- Value Calculations"
   ]
  },
  {
   "cell_type": "code",
   "execution_count": 122,
   "metadata": {},
   "outputs": [
    {
     "data": {
      "text/plain": [
       "[-0.7071067811865471,\n",
       " 0.235702260395515,\n",
       " -1.1785113019775793,\n",
       " 0.4714045207910321,\n",
       " -0.23570226039551606,\n",
       " 0.235702260395515,\n",
       " 0.4714045207910321,\n",
       " -0.4714045207910321,\n",
       " -0.7071067811865471,\n",
       " 1.4142135623730943,\n",
       " -0.7071067811865471,\n",
       " 1.4142135623730943,\n",
       " 0.0,\n",
       " 0.4714045207910321,\n",
       " -0.4714045207910321,\n",
       " 0.9428090415820642,\n",
       " 3.0641293851417055,\n",
       " 4.949747468305832,\n",
       " 7.542472332656508,\n",
       " 5.892556509887896]"
      ]
     },
     "execution_count": 122,
     "metadata": {},
     "output_type": "execute_result"
    }
   ],
   "source": [
    "# 𝜇 = 4\n",
    "# n = 50 samples per day\n",
    "# σ = 3\n",
    "# T value = (x̄-𝜇) / (σ/√n)\n",
    "\n",
    "Tval = []\n",
    "for i in data:\n",
    "    Tval.append((i - mean)/(std/np.sqrt(n)))\n",
    "Tval"
   ]
  },
  {
   "cell_type": "markdown",
   "metadata": {},
   "source": [
    "### P - Value Calculations"
   ]
  },
  {
   "cell_type": "code",
   "execution_count": 123,
   "metadata": {},
   "outputs": [],
   "source": [
    "pVal = []\n",
    "n1 = n -1\n",
    "for i1 in val:\n",
    "    if i1 < 0:\n",
    "        pVal.append(2 * stats.t.cdf(i1, n1))\n",
    "    else:\n",
    "        pVal.append(2 * stats.t.cdf(-(i1), n1))\n",
    "  "
   ]
  },
  {
   "cell_type": "markdown",
   "metadata": {},
   "source": [
    "#### P- Values for all 20 days"
   ]
  },
  {
   "cell_type": "code",
   "execution_count": 124,
   "metadata": {},
   "outputs": [
    {
     "name": "stdout",
     "output_type": "stream",
     "text": [
      "1 : 0.482853747118985\n",
      "2 : 0.8146478467018572\n",
      "3 : 0.24428879234928788\n",
      "4 : 0.6394473297757453\n",
      "5 : 0.8146478467018564\n",
      "6 : 0.8146478467018572\n",
      "7 : 0.6394473297757453\n",
      "8 : 0.6394473297757453\n",
      "9 : 0.482853747118985\n",
      "10 : 0.16362597826984224\n",
      "11 : 0.482853747118985\n",
      "12 : 0.16362597826984224\n",
      "13 : 1.0\n",
      "14 : 0.6394473297757453\n",
      "15 : 0.6394473297757453\n",
      "16 : 0.35040862513981663\n",
      "17 : 0.003543881264713143\n",
      "18 : 9.190845091379827e-06\n",
      "19 : 9.62851076804498e-10\n",
      "20 : 3.4255224123818994e-07\n"
     ]
    }
   ],
   "source": [
    "for c,i in enumerate(pVal,1):\n",
    "    print(c,\":\", i)"
   ]
  },
  {
   "cell_type": "markdown",
   "metadata": {},
   "source": [
    "### From above values we can conclude that we don't have to take any measures on <u>days 1 to 16</u> as <i> p > alpha(0.05)</i> <br> But clearly from <u>days 17 to 20</u> its not normal observation as <i>p < 0.05 </i>"
   ]
  },
  {
   "cell_type": "markdown",
   "metadata": {},
   "source": [
    "#### Using scipy method"
   ]
  },
  {
   "cell_type": "code",
   "execution_count": 115,
   "metadata": {},
   "outputs": [
    {
     "data": {
      "text/plain": [
       "0.024036076761831338"
      ]
     },
     "execution_count": 115,
     "metadata": {},
     "output_type": "execute_result"
    }
   ],
   "source": [
    "(stats.ttest_1samp(dist,4)[1])/2 # always gives us 2 tail test , 0: gives t value, 1: gives p value"
   ]
  }
 ],
 "metadata": {
  "kernelspec": {
   "display_name": "Python 3",
   "language": "python",
   "name": "python3"
  },
  "language_info": {
   "codemirror_mode": {
    "name": "ipython",
    "version": 3
   },
   "file_extension": ".py",
   "mimetype": "text/x-python",
   "name": "python",
   "nbconvert_exporter": "python",
   "pygments_lexer": "ipython3",
   "version": "3.8.3"
  }
 },
 "nbformat": 4,
 "nbformat_minor": 4
}
