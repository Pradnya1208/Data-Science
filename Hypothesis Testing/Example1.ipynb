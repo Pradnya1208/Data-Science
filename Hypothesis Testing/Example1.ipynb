{
 "cells": [
  {
   "cell_type": "markdown",
   "metadata": {},
   "source": [
    "# Hypothesis Testing (T - Test)"
   ]
  },
  {
   "cell_type": "markdown",
   "metadata": {},
   "source": [
    "## Example : <br>Process Control at the call center\n",
    "### Performance of a call center is monitored by the average call duration.<br> Data from the 18 months shows that on the day when process runs normally, <br> 𝜇 = <i>4 minutes</i>, σ = <i>3 minutes</i> <br>Cannot monitor each and every call due to limited resources so radomly sapled 50 call per day.<br> Hence, n = <i>50 calls per day</i>.<br><br>We already know sample mean everyday will be different - <i>Inherent invariability</i>.<br>But, when should you be alarmed and conclude that system is not behaving normally - <i>External invariability</i>.<br><br>Pragmatic Approch: <br>System behaves normally when 𝜇 = <i>4 minutes</i><br>So, we should look for deviation on either side of 𝜇.<br>\n",
    "| Day | Mean Call Duration |\n",
    "| :- | :-: |\n",
    "| 1 | 3.7 |\n",
    "| 2 | 4.1 |\n",
    "| 3 | 3.5 |\n",
    "| 4 | 4.2 |\n",
    "| 5 | 3.9 |\n",
    "| 6 | 4.1 |\n",
    "| 7 | 4.2 |\n",
    "| 8 | 3.8 |\n",
    "| 9 | 3.7 |\n",
    "| 10 | 4.6 |\n",
    "| 11 | 3.7 |\n",
    "| 12 | 4.6 |\n",
    "| 13 | 4.0 |\n",
    "| 14 | 4.2 |\n",
    "| 15 | 3.8 |\n",
    "| 16 | 4.4 |\n",
    "| 17 | 5.3 |\n",
    "| 18 | 6.1 |\n",
    "| 19 | 7.2 |\n",
    "| 20 | 6.5 |\n"
   ]
  },
  {
   "cell_type": "code",
   "execution_count": 1,
   "metadata": {},
   "outputs": [],
   "source": [
    "from scipy import stats\n",
    "import pandas as pd\n",
    "import numpy as np\n",
    "import seaborn as sns"
   ]
  },
  {
   "cell_type": "markdown",
   "metadata": {},
   "source": [
    "##### Formula : 2 * stats.t.cdf((x̄-𝜇)/(s/sqrt(n))) , n-1) # n = sample size DF = n-1"
   ]
  },
  {
   "cell_type": "code",
   "execution_count": 2,
   "metadata": {},
   "outputs": [],
   "source": [
    "m = [3.7, 4.1, 3.5, 4.2, 3.9, 4.1, 4.2, 3.8, 3.7, 4.6, 3.7, 4.6, 4.0, 4.2, 3.8, 4.4, 5.3, 6.1, 7.2, 6.5]\n",
    "data = pd.Series(m)\n",
    "mean = 4\n",
    "n = 50\n",
    "std = 3\n"
   ]
  },
  {
   "cell_type": "markdown",
   "metadata": {},
   "source": [
    "### T- Value Calculations"
   ]
  },
  {
   "cell_type": "code",
   "execution_count": 3,
   "metadata": {},
   "outputs": [
    {
     "data": {
      "text/plain": [
       "[-0.7071067811865471,\n",
       " 0.235702260395515,\n",
       " -1.1785113019775793,\n",
       " 0.4714045207910321,\n",
       " -0.23570226039551606,\n",
       " 0.235702260395515,\n",
       " 0.4714045207910321,\n",
       " -0.4714045207910321,\n",
       " -0.7071067811865471,\n",
       " 1.4142135623730943,\n",
       " -0.7071067811865471,\n",
       " 1.4142135623730943,\n",
       " 0.0,\n",
       " 0.4714045207910321,\n",
       " -0.4714045207910321,\n",
       " 0.9428090415820642,\n",
       " 3.0641293851417055,\n",
       " 4.949747468305832,\n",
       " 7.542472332656508,\n",
       " 5.892556509887896]"
      ]
     },
     "execution_count": 3,
     "metadata": {},
     "output_type": "execute_result"
    }
   ],
   "source": [
    "# 𝜇 = 4\n",
    "# n = 50 samples per day\n",
    "# σ = 3\n",
    "# T value = (x̄-𝜇) / (σ/√n)\n",
    "\n",
    "Tval = []\n",
    "for i in data:\n",
    "    Tval.append((i - mean)/(std/np.sqrt(n)))\n",
    "Tval"
   ]
  },
  {
   "cell_type": "markdown",
   "metadata": {},
   "source": [
    "### P - Value Calculations"
   ]
  },
  {
   "cell_type": "code",
   "execution_count": 4,
   "metadata": {},
   "outputs": [],
   "source": [
    "pVal = []\n",
    "n1 = n -1\n",
    "for i1 in Tval:\n",
    "    if i1 < 0:\n",
    "        pVal.append(2 * stats.t.cdf(i1, n1))\n",
    "    else:\n",
    "        pVal.append(2 * stats.t.cdf(-(i1), n1))\n",
    "  "
   ]
  },
  {
   "cell_type": "markdown",
   "metadata": {},
   "source": [
    "### P- Values for all 20 days"
   ]
  },
  {
   "cell_type": "code",
   "execution_count": 5,
   "metadata": {},
   "outputs": [
    {
     "name": "stdout",
     "output_type": "stream",
     "text": [
      "0 : 0.48284957070830226\n",
      "1 : 0.8146461024627443\n",
      "2 : 0.24428433153451604\n",
      "3 : 0.6394441249021059\n",
      "4 : 0.8146461024627435\n",
      "5 : 0.8146461024627443\n",
      "6 : 0.6394441249021059\n",
      "7 : 0.6394441249021059\n",
      "8 : 0.48284957070830226\n",
      "9 : 0.16362201811838478\n",
      "10 : 0.48284957070830226\n",
      "11 : 0.16362201811838478\n",
      "12 : 1.0\n",
      "13 : 0.6394441249021059\n",
      "14 : 0.6394441249021059\n",
      "15 : 0.3504040460736161\n",
      "16 : 0.003543589847173727\n",
      "17 : 9.189352704609621e-06\n",
      "18 : 9.626040426487692e-10\n",
      "19 : 3.4248372786078755e-07\n"
     ]
    }
   ],
   "source": [
    "day = []\n",
    "for c,i in enumerate(pVal,0):\n",
    "    day.append(c)\n",
    "    print(c,\":\", i)"
   ]
  },
  {
   "cell_type": "markdown",
   "metadata": {},
   "source": [
    "## From above values we can conclude that we don't have to take any measures on <u>days 1 to 16</u> as <i> p > alpha(0.05).</i> But, clearly from <u>days 17 to 20</u> its not normal observation as <i>p < 0.05 </i>"
   ]
  },
  {
   "cell_type": "code",
   "execution_count": 6,
   "metadata": {},
   "outputs": [
    {
     "data": {
      "text/html": [
       "<div>\n",
       "<style scoped>\n",
       "    .dataframe tbody tr th:only-of-type {\n",
       "        vertical-align: middle;\n",
       "    }\n",
       "\n",
       "    .dataframe tbody tr th {\n",
       "        vertical-align: top;\n",
       "    }\n",
       "\n",
       "    .dataframe thead th {\n",
       "        text-align: right;\n",
       "    }\n",
       "</style>\n",
       "<table border=\"1\" class=\"dataframe\">\n",
       "  <thead>\n",
       "    <tr style=\"text-align: right;\">\n",
       "      <th></th>\n",
       "      <th>Day</th>\n",
       "      <th>Mean Call duration</th>\n",
       "      <th>T-Value</th>\n",
       "      <th>P-Value</th>\n",
       "    </tr>\n",
       "  </thead>\n",
       "  <tbody>\n",
       "    <tr>\n",
       "      <th>0</th>\n",
       "      <td>0</td>\n",
       "      <td>3.7</td>\n",
       "      <td>-0.707107</td>\n",
       "      <td>4.828496e-01</td>\n",
       "    </tr>\n",
       "    <tr>\n",
       "      <th>1</th>\n",
       "      <td>1</td>\n",
       "      <td>4.1</td>\n",
       "      <td>0.235702</td>\n",
       "      <td>8.146461e-01</td>\n",
       "    </tr>\n",
       "    <tr>\n",
       "      <th>2</th>\n",
       "      <td>2</td>\n",
       "      <td>3.5</td>\n",
       "      <td>-1.178511</td>\n",
       "      <td>2.442843e-01</td>\n",
       "    </tr>\n",
       "    <tr>\n",
       "      <th>3</th>\n",
       "      <td>3</td>\n",
       "      <td>4.2</td>\n",
       "      <td>0.471405</td>\n",
       "      <td>6.394441e-01</td>\n",
       "    </tr>\n",
       "    <tr>\n",
       "      <th>4</th>\n",
       "      <td>4</td>\n",
       "      <td>3.9</td>\n",
       "      <td>-0.235702</td>\n",
       "      <td>8.146461e-01</td>\n",
       "    </tr>\n",
       "    <tr>\n",
       "      <th>5</th>\n",
       "      <td>5</td>\n",
       "      <td>4.1</td>\n",
       "      <td>0.235702</td>\n",
       "      <td>8.146461e-01</td>\n",
       "    </tr>\n",
       "    <tr>\n",
       "      <th>6</th>\n",
       "      <td>6</td>\n",
       "      <td>4.2</td>\n",
       "      <td>0.471405</td>\n",
       "      <td>6.394441e-01</td>\n",
       "    </tr>\n",
       "    <tr>\n",
       "      <th>7</th>\n",
       "      <td>7</td>\n",
       "      <td>3.8</td>\n",
       "      <td>-0.471405</td>\n",
       "      <td>6.394441e-01</td>\n",
       "    </tr>\n",
       "    <tr>\n",
       "      <th>8</th>\n",
       "      <td>8</td>\n",
       "      <td>3.7</td>\n",
       "      <td>-0.707107</td>\n",
       "      <td>4.828496e-01</td>\n",
       "    </tr>\n",
       "    <tr>\n",
       "      <th>9</th>\n",
       "      <td>9</td>\n",
       "      <td>4.6</td>\n",
       "      <td>1.414214</td>\n",
       "      <td>1.636220e-01</td>\n",
       "    </tr>\n",
       "    <tr>\n",
       "      <th>10</th>\n",
       "      <td>10</td>\n",
       "      <td>3.7</td>\n",
       "      <td>-0.707107</td>\n",
       "      <td>4.828496e-01</td>\n",
       "    </tr>\n",
       "    <tr>\n",
       "      <th>11</th>\n",
       "      <td>11</td>\n",
       "      <td>4.6</td>\n",
       "      <td>1.414214</td>\n",
       "      <td>1.636220e-01</td>\n",
       "    </tr>\n",
       "    <tr>\n",
       "      <th>12</th>\n",
       "      <td>12</td>\n",
       "      <td>4.0</td>\n",
       "      <td>0.000000</td>\n",
       "      <td>1.000000e+00</td>\n",
       "    </tr>\n",
       "    <tr>\n",
       "      <th>13</th>\n",
       "      <td>13</td>\n",
       "      <td>4.2</td>\n",
       "      <td>0.471405</td>\n",
       "      <td>6.394441e-01</td>\n",
       "    </tr>\n",
       "    <tr>\n",
       "      <th>14</th>\n",
       "      <td>14</td>\n",
       "      <td>3.8</td>\n",
       "      <td>-0.471405</td>\n",
       "      <td>6.394441e-01</td>\n",
       "    </tr>\n",
       "    <tr>\n",
       "      <th>15</th>\n",
       "      <td>15</td>\n",
       "      <td>4.4</td>\n",
       "      <td>0.942809</td>\n",
       "      <td>3.504040e-01</td>\n",
       "    </tr>\n",
       "    <tr>\n",
       "      <th>16</th>\n",
       "      <td>16</td>\n",
       "      <td>5.3</td>\n",
       "      <td>3.064129</td>\n",
       "      <td>3.543590e-03</td>\n",
       "    </tr>\n",
       "    <tr>\n",
       "      <th>17</th>\n",
       "      <td>17</td>\n",
       "      <td>6.1</td>\n",
       "      <td>4.949747</td>\n",
       "      <td>9.189353e-06</td>\n",
       "    </tr>\n",
       "    <tr>\n",
       "      <th>18</th>\n",
       "      <td>18</td>\n",
       "      <td>7.2</td>\n",
       "      <td>7.542472</td>\n",
       "      <td>9.626040e-10</td>\n",
       "    </tr>\n",
       "    <tr>\n",
       "      <th>19</th>\n",
       "      <td>19</td>\n",
       "      <td>6.5</td>\n",
       "      <td>5.892557</td>\n",
       "      <td>3.424837e-07</td>\n",
       "    </tr>\n",
       "  </tbody>\n",
       "</table>\n",
       "</div>"
      ],
      "text/plain": [
       "    Day  Mean Call duration   T-Value       P-Value\n",
       "0     0                 3.7 -0.707107  4.828496e-01\n",
       "1     1                 4.1  0.235702  8.146461e-01\n",
       "2     2                 3.5 -1.178511  2.442843e-01\n",
       "3     3                 4.2  0.471405  6.394441e-01\n",
       "4     4                 3.9 -0.235702  8.146461e-01\n",
       "5     5                 4.1  0.235702  8.146461e-01\n",
       "6     6                 4.2  0.471405  6.394441e-01\n",
       "7     7                 3.8 -0.471405  6.394441e-01\n",
       "8     8                 3.7 -0.707107  4.828496e-01\n",
       "9     9                 4.6  1.414214  1.636220e-01\n",
       "10   10                 3.7 -0.707107  4.828496e-01\n",
       "11   11                 4.6  1.414214  1.636220e-01\n",
       "12   12                 4.0  0.000000  1.000000e+00\n",
       "13   13                 4.2  0.471405  6.394441e-01\n",
       "14   14                 3.8 -0.471405  6.394441e-01\n",
       "15   15                 4.4  0.942809  3.504040e-01\n",
       "16   16                 5.3  3.064129  3.543590e-03\n",
       "17   17                 6.1  4.949747  9.189353e-06\n",
       "18   18                 7.2  7.542472  9.626040e-10\n",
       "19   19                 6.5  5.892557  3.424837e-07"
      ]
     },
     "execution_count": 6,
     "metadata": {},
     "output_type": "execute_result"
    }
   ],
   "source": [
    "Hp = {'Day': day,\n",
    "         'Mean Call duration': m,\n",
    "          'T-Value': Tval,\n",
    "         'P-Value':pVal}\n",
    "df_HP = pd.DataFrame(Hp, columns = ['Day', 'Mean Call duration', 'T-Value', 'P-Value'])\n",
    "df_HP"
   ]
  },
  {
   "cell_type": "code",
   "execution_count": 7,
   "metadata": {},
   "outputs": [],
   "source": [
    "#df_HP = df_HP.set_index(df_HP['Day'])\n",
    "#sns.distplot(df_HP['P-Value'])"
   ]
  },
  {
   "cell_type": "markdown",
   "metadata": {},
   "source": [
    "#### Using scipy method"
   ]
  },
  {
   "cell_type": "code",
   "execution_count": 8,
   "metadata": {},
   "outputs": [
    {
     "ename": "NameError",
     "evalue": "name 'dist' is not defined",
     "output_type": "error",
     "traceback": [
      "\u001b[1;31m---------------------------------------------------------------------------\u001b[0m",
      "\u001b[1;31mNameError\u001b[0m                                 Traceback (most recent call last)",
      "\u001b[1;32m<ipython-input-8-c45adccd4c2d>\u001b[0m in \u001b[0;36m<module>\u001b[1;34m\u001b[0m\n\u001b[1;32m----> 1\u001b[1;33m \u001b[1;33m(\u001b[0m\u001b[0mstats\u001b[0m\u001b[1;33m.\u001b[0m\u001b[0mttest_1samp\u001b[0m\u001b[1;33m(\u001b[0m\u001b[0mdist\u001b[0m\u001b[1;33m,\u001b[0m\u001b[1;36m4\u001b[0m\u001b[1;33m)\u001b[0m\u001b[1;33m[\u001b[0m\u001b[1;36m1\u001b[0m\u001b[1;33m]\u001b[0m\u001b[1;33m)\u001b[0m\u001b[1;33m/\u001b[0m\u001b[1;36m2\u001b[0m \u001b[1;31m# always gives us 2 tail test , 0: gives t value, 1: gives p value\u001b[0m\u001b[1;33m\u001b[0m\u001b[1;33m\u001b[0m\u001b[0m\n\u001b[0m",
      "\u001b[1;31mNameError\u001b[0m: name 'dist' is not defined"
     ]
    }
   ],
   "source": [
    "(stats.ttest_1samp(dist,4)[1])/2 # always gives us 2 tail test , 0: gives t value, 1: gives p value"
   ]
  }
 ],
 "metadata": {
  "kernelspec": {
   "display_name": "Python 3",
   "language": "python",
   "name": "python3"
  },
  "language_info": {
   "codemirror_mode": {
    "name": "ipython",
    "version": 3
   },
   "file_extension": ".py",
   "mimetype": "text/x-python",
   "name": "python",
   "nbconvert_exporter": "python",
   "pygments_lexer": "ipython3",
   "version": "3.8.3"
  }
 },
 "nbformat": 4,
 "nbformat_minor": 4
}
